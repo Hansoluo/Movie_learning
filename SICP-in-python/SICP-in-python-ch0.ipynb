{
 "cells": [
  {
   "cell_type": "markdown",
   "metadata": {},
   "source": [
    "# 全书目录\n",
    "\n",
    "## CH1 用函数构建抽象体\n",
    "\n",
    "- 1.1 python语言概述\n",
    "- 1.2 编程的基础元素\n",
    "- 1.3 定义新函数\n",
    "- 1.4 实用建议：函数的艺术\n",
    "- 1.5 控制模块\n",
    "- 1.6 高阶函数\n",
    "\n",
    "## CH2 用对象构建抽象体\n",
    "\n",
    "- 2.1 本章概述\n",
    "- 2.2 数据抽象\n",
    "- 2.3 序列\n",
    "- 2.4 可变数据\n",
    "- 2.5 面向对象编程\n",
    "- 2.6 类和对象的实现\n",
    "- 2.7 通用操作\n",
    "\n",
    "## CH3 计算机编程和结构和解释\n",
    "\n",
    "- 3.1 本章概述\n",
    "- 3.2 函数和过程\n",
    "- 3.3 递归数据结构\n",
    "- 3.4 异常\n",
    "- 3.5 组合式的语言解释器\n",
    "- 3.6 抽象式的语言解释器\n",
    "\n",
    "## CH4 分布和并行运算\n",
    "\n",
    "- 4.1 本章概述\n",
    "- 4.2 分布运算\n",
    "- 4.3 并行运算\n",
    "\n",
    "## CH5 序列和协同程序\n",
    "\n",
    "- 5.1 本章概述\n",
    "- 5.2 隐性序列\n",
    "- 5.3 协同程序"
   ]
  }
 ],
 "metadata": {
  "kernelspec": {
   "display_name": "Python 3",
   "language": "python",
   "name": "python3"
  },
  "language_info": {
   "codemirror_mode": {
    "name": "ipython",
    "version": 3
   },
   "file_extension": ".py",
   "mimetype": "text/x-python",
   "name": "python",
   "nbconvert_exporter": "python",
   "pygments_lexer": "ipython3",
   "version": "3.6.3"
  }
 },
 "nbformat": 4,
 "nbformat_minor": 2
}
