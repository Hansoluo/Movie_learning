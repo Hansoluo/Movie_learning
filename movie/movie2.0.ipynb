{
 "cells": [
  {
   "cell_type": "markdown",
   "metadata": {},
   "source": [
    "# 即将上映电影的评分预测  Movie For You"
   ]
  },
  {
   "cell_type": "code",
   "execution_count": 3,
   "metadata": {
    "collapsed": true
   },
   "outputs": [],
   "source": [
    "__version__ = \"v18.1.9.0641\"\n",
    "__author__ = 'Hansoluo'\n",
    "__license__ = 'MIT@2018-01'"
   ]
  },
  {
   "cell_type": "code",
   "execution_count": 6,
   "metadata": {
    "collapsed": true
   },
   "outputs": [],
   "source": [
    "# data analysis and wrangling\n",
    "import pandas as pd\n",
    "import numpy as np\n",
    "import re\n",
    "\n",
    "# visualization\n",
    "import seaborn as sns\n",
    "import matplotlib.pyplot as plt\n",
    "%matplotlib inline\n",
    "\n",
    "# machine learning\n",
    "from sklearn.model_selection import train_test_split\n",
    "import tensorflow as tf"
   ]
  },
  {
   "cell_type": "markdown",
   "metadata": {},
   "source": [
    "## 工作流程\n",
    "- 问题定义\n",
    "- 获取&分析数据集\n",
    "- 数据清洗&预处理\n",
    "- 数据分析&探索\n",
    "- 构建模型&训练参数\n",
    "- 验证&预测结果"
   ]
  },
  {
   "cell_type": "markdown",
   "metadata": {},
   "source": [
    "## 问题定义\n",
    "- 需求：刚上映了一部电影，但是要不要去看呢？有人说好看，有人说难看，该如何选择？\n",
    "- 功能设想：上映电影预测\n",
    "    - 利用爬取的豆瓣电影数据，构建基于导演、编剧、演员特征的预测模型\n",
    "    - 查询功能：用户输入即将上映电影的豆瓣页面链接，返回电影信息\n",
    "    - 预测功能：调用模型，预测电影的评分，给出推荐建议"
   ]
  },
  {
   "cell_type": "markdown",
   "metadata": {},
   "source": [
    "##  获取&分析数据集\n",
    "- 有哪些特征？哪些是有用的？\n",
    "- 哪些特征是类别型？\n",
    "- 哪些特征是数据型？\n",
    "- 哪些特征是混合类型?\n",
    "- 哪些特征是脏数据（格式错误等）？\n",
    "- 哪些特征数据存在缺失？"
   ]
  },
  {
   "cell_type": "code",
   "execution_count": 61,
   "metadata": {},
   "outputs": [
    {
     "data": {
      "text/plain": [
       "Index(['id', 'title', 'url', 'cover', 'rate', 'director', 'composer', 'actor',\n",
       "       'category', 'district', 'language', 'showtime', 'length', 'othername',\n",
       "       'description'],\n",
       "      dtype='object')"
      ]
     },
     "execution_count": 61,
     "metadata": {},
     "output_type": "execute_result"
    }
   ],
   "source": [
    "# 获取数据\n",
    "df = pd.read_csv('movie.csv', sep = '^')\n",
    "# 有哪些特征？哪些是有用的？\n",
    "df.columns"
   ]
  },
  {
   "cell_type": "code",
   "execution_count": 62,
   "metadata": {},
   "outputs": [
    {
     "data": {
      "text/html": [
       "<div>\n",
       "<style>\n",
       "    .dataframe thead tr:only-child th {\n",
       "        text-align: right;\n",
       "    }\n",
       "\n",
       "    .dataframe thead th {\n",
       "        text-align: left;\n",
       "    }\n",
       "\n",
       "    .dataframe tbody tr th {\n",
       "        vertical-align: top;\n",
       "    }\n",
       "</style>\n",
       "<table border=\"1\" class=\"dataframe\">\n",
       "  <thead>\n",
       "    <tr style=\"text-align: right;\">\n",
       "      <th></th>\n",
       "      <th>id</th>\n",
       "      <th>title</th>\n",
       "      <th>rate</th>\n",
       "      <th>director</th>\n",
       "      <th>actor</th>\n",
       "      <th>category</th>\n",
       "      <th>district</th>\n",
       "      <th>showtime</th>\n",
       "      <th>length</th>\n",
       "    </tr>\n",
       "  </thead>\n",
       "  <tbody>\n",
       "    <tr>\n",
       "      <th>0</th>\n",
       "      <td>25746375</td>\n",
       "      <td>我是路人甲</td>\n",
       "      <td>7.4</td>\n",
       "      <td>尔冬升</td>\n",
       "      <td>万国鹏/王婷/沈凯/徐小琴/林晨/魏星/蒿怡帆/蒿怡菲/覃培军/王昭/张文斌/林俭/耿立树/...</td>\n",
       "      <td>剧情/喜剧</td>\n",
       "      <td>China_中国大陆</td>\n",
       "      <td>2015.0</td>\n",
       "      <td>134.0</td>\n",
       "    </tr>\n",
       "    <tr>\n",
       "      <th>1</th>\n",
       "      <td>5446197</td>\n",
       "      <td>铁拳</td>\n",
       "      <td>7.1</td>\n",
       "      <td>安东尼·福奎阿</td>\n",
       "      <td>杰克·吉伦哈尔/福里斯特·惠特克/瑞秋·麦克亚当斯/娜奥米·哈里斯/50分/乌娜·劳伦斯/米...</td>\n",
       "      <td>剧情/动作/运动</td>\n",
       "      <td>United States of America_美国/China_中国大陆</td>\n",
       "      <td>2015.0</td>\n",
       "      <td>123.0</td>\n",
       "    </tr>\n",
       "    <tr>\n",
       "      <th>2</th>\n",
       "      <td>25885212</td>\n",
       "      <td>我们梦中见</td>\n",
       "      <td>7.6</td>\n",
       "      <td>布雷特·海利</td>\n",
       "      <td>布莱思·丹纳/马丁·斯塔尔/琼·斯奎布/雷亚·普尔曼/玛丽·凯·普莱斯/玛琳·阿克曼/山姆·...</td>\n",
       "      <td>剧情/喜剧</td>\n",
       "      <td>United States of America_美国</td>\n",
       "      <td>2015.0</td>\n",
       "      <td>92.0</td>\n",
       "    </tr>\n",
       "    <tr>\n",
       "      <th>3</th>\n",
       "      <td>25728581</td>\n",
       "      <td>少年透明人</td>\n",
       "      <td>6.6</td>\n",
       "      <td>加布里埃尔·萨瓦特瑞斯</td>\n",
       "      <td>卢多维科·吉拉尔德罗/Ludovico Girardello/瓦莱莉·高利诺</td>\n",
       "      <td>奇幻/冒险</td>\n",
       "      <td>Italy_意大利</td>\n",
       "      <td>2014.0</td>\n",
       "      <td>100.0</td>\n",
       "    </tr>\n",
       "    <tr>\n",
       "      <th>4</th>\n",
       "      <td>5156558</td>\n",
       "      <td>撒迦利亚</td>\n",
       "      <td>6.0</td>\n",
       "      <td>克雷格·卓贝</td>\n",
       "      <td>玛格特·罗比/克里斯·派恩/切瓦特·埃加福特</td>\n",
       "      <td>剧情/科幻/惊悚</td>\n",
       "      <td>United States of America_美国/Iceland_冰岛</td>\n",
       "      <td>2015.0</td>\n",
       "      <td>95.0</td>\n",
       "    </tr>\n",
       "  </tbody>\n",
       "</table>\n",
       "</div>"
      ],
      "text/plain": [
       "         id  title  rate     director  \\\n",
       "0  25746375  我是路人甲   7.4          尔冬升   \n",
       "1   5446197     铁拳   7.1      安东尼·福奎阿   \n",
       "2  25885212  我们梦中见   7.6       布雷特·海利   \n",
       "3  25728581  少年透明人   6.6  加布里埃尔·萨瓦特瑞斯   \n",
       "4   5156558   撒迦利亚   6.0       克雷格·卓贝   \n",
       "\n",
       "                                               actor  category  \\\n",
       "0  万国鹏/王婷/沈凯/徐小琴/林晨/魏星/蒿怡帆/蒿怡菲/覃培军/王昭/张文斌/林俭/耿立树/...     剧情/喜剧   \n",
       "1  杰克·吉伦哈尔/福里斯特·惠特克/瑞秋·麦克亚当斯/娜奥米·哈里斯/50分/乌娜·劳伦斯/米...  剧情/动作/运动   \n",
       "2  布莱思·丹纳/马丁·斯塔尔/琼·斯奎布/雷亚·普尔曼/玛丽·凯·普莱斯/玛琳·阿克曼/山姆·...     剧情/喜剧   \n",
       "3             卢多维科·吉拉尔德罗/Ludovico Girardello/瓦莱莉·高利诺     奇幻/冒险   \n",
       "4                             玛格特·罗比/克里斯·派恩/切瓦特·埃加福特  剧情/科幻/惊悚   \n",
       "\n",
       "                                 district  showtime  length  \n",
       "0                              China_中国大陆    2015.0   134.0  \n",
       "1  United States of America_美国/China_中国大陆    2015.0   123.0  \n",
       "2             United States of America_美国    2015.0    92.0  \n",
       "3                               Italy_意大利    2014.0   100.0  \n",
       "4  United States of America_美国/Iceland_冰岛    2015.0    95.0  "
      ]
     },
     "execution_count": 62,
     "metadata": {},
     "output_type": "execute_result"
    }
   ],
   "source": [
    "# 选择有用的特征\n",
    "df = df[['id','title', 'rate','director', 'actor', 'category', 'district','showtime', 'length']]\n",
    "# 查看数据集的前5条数据\n",
    "df.head()"
   ]
  },
  {
   "cell_type": "code",
   "execution_count": 64,
   "metadata": {},
   "outputs": [
    {
     "name": "stdout",
     "output_type": "stream",
     "text": [
      "<class 'pandas.core.frame.DataFrame'>\n",
      "RangeIndex: 4587 entries, 0 to 4586\n",
      "Data columns (total 9 columns):\n",
      "id          4587 non-null int64\n",
      "title       4587 non-null object\n",
      "rate        4587 non-null float64\n",
      "director    4583 non-null object\n",
      "actor       4576 non-null object\n",
      "category    4563 non-null object\n",
      "district    4587 non-null object\n",
      "showtime    4562 non-null float64\n",
      "length      4500 non-null float64\n",
      "dtypes: float64(3), int64(1), object(5)\n",
      "memory usage: 322.6+ KB\n"
     ]
    }
   ],
   "source": [
    "# 查看数据集的特征、数目和类型\n",
    "df.info() "
   ]
  },
  {
   "cell_type": "code",
   "execution_count": 65,
   "metadata": {},
   "outputs": [
    {
     "data": {
      "text/plain": [
       "id           0\n",
       "title        0\n",
       "rate         0\n",
       "director     4\n",
       "actor       11\n",
       "category    24\n",
       "district     0\n",
       "showtime    25\n",
       "length      87\n",
       "dtype: int64"
      ]
     },
     "execution_count": 65,
     "metadata": {},
     "output_type": "execute_result"
    }
   ],
   "source": [
    "# 查看数据集的特征数据的缺失情况\n",
    "df.isnull().sum() "
   ]
  },
  {
   "cell_type": "code",
   "execution_count": 66,
   "metadata": {},
   "outputs": [
    {
     "data": {
      "text/html": [
       "<div>\n",
       "<style>\n",
       "    .dataframe thead tr:only-child th {\n",
       "        text-align: right;\n",
       "    }\n",
       "\n",
       "    .dataframe thead th {\n",
       "        text-align: left;\n",
       "    }\n",
       "\n",
       "    .dataframe tbody tr th {\n",
       "        vertical-align: top;\n",
       "    }\n",
       "</style>\n",
       "<table border=\"1\" class=\"dataframe\">\n",
       "  <thead>\n",
       "    <tr style=\"text-align: right;\">\n",
       "      <th></th>\n",
       "      <th>id</th>\n",
       "      <th>rate</th>\n",
       "      <th>showtime</th>\n",
       "      <th>length</th>\n",
       "    </tr>\n",
       "  </thead>\n",
       "  <tbody>\n",
       "    <tr>\n",
       "      <th>count</th>\n",
       "      <td>4.587000e+03</td>\n",
       "      <td>4587.000000</td>\n",
       "      <td>4562.000000</td>\n",
       "      <td>4500.000000</td>\n",
       "    </tr>\n",
       "    <tr>\n",
       "      <th>mean</th>\n",
       "      <td>6.151811e+06</td>\n",
       "      <td>7.207739</td>\n",
       "      <td>2002.145550</td>\n",
       "      <td>109.491556</td>\n",
       "    </tr>\n",
       "    <tr>\n",
       "      <th>std</th>\n",
       "      <td>8.124634e+06</td>\n",
       "      <td>1.066365</td>\n",
       "      <td>15.486592</td>\n",
       "      <td>21.794014</td>\n",
       "    </tr>\n",
       "    <tr>\n",
       "      <th>min</th>\n",
       "      <td>1.291543e+06</td>\n",
       "      <td>2.500000</td>\n",
       "      <td>1920.000000</td>\n",
       "      <td>22.000000</td>\n",
       "    </tr>\n",
       "    <tr>\n",
       "      <th>25%</th>\n",
       "      <td>1.305136e+06</td>\n",
       "      <td>6.500000</td>\n",
       "      <td>1999.000000</td>\n",
       "      <td>95.000000</td>\n",
       "    </tr>\n",
       "    <tr>\n",
       "      <th>50%</th>\n",
       "      <td>2.032459e+06</td>\n",
       "      <td>7.300000</td>\n",
       "      <td>2007.000000</td>\n",
       "      <td>106.000000</td>\n",
       "    </tr>\n",
       "    <tr>\n",
       "      <th>75%</th>\n",
       "      <td>5.967825e+06</td>\n",
       "      <td>8.100000</td>\n",
       "      <td>2012.000000</td>\n",
       "      <td>119.000000</td>\n",
       "    </tr>\n",
       "    <tr>\n",
       "      <th>max</th>\n",
       "      <td>2.659007e+07</td>\n",
       "      <td>9.600000</td>\n",
       "      <td>2015.000000</td>\n",
       "      <td>450.000000</td>\n",
       "    </tr>\n",
       "  </tbody>\n",
       "</table>\n",
       "</div>"
      ],
      "text/plain": [
       "                 id         rate     showtime       length\n",
       "count  4.587000e+03  4587.000000  4562.000000  4500.000000\n",
       "mean   6.151811e+06     7.207739  2002.145550   109.491556\n",
       "std    8.124634e+06     1.066365    15.486592    21.794014\n",
       "min    1.291543e+06     2.500000  1920.000000    22.000000\n",
       "25%    1.305136e+06     6.500000  1999.000000    95.000000\n",
       "50%    2.032459e+06     7.300000  2007.000000   106.000000\n",
       "75%    5.967825e+06     8.100000  2012.000000   119.000000\n",
       "max    2.659007e+07     9.600000  2015.000000   450.000000"
      ]
     },
     "execution_count": 66,
     "metadata": {},
     "output_type": "execute_result"
    }
   ],
   "source": [
    "# 查看数据集数字类型特征的统计分布情况\n",
    "df.describe() "
   ]
  },
  {
   "cell_type": "code",
   "execution_count": 67,
   "metadata": {},
   "outputs": [
    {
     "data": {
      "text/html": [
       "<div>\n",
       "<style>\n",
       "    .dataframe thead tr:only-child th {\n",
       "        text-align: right;\n",
       "    }\n",
       "\n",
       "    .dataframe thead th {\n",
       "        text-align: left;\n",
       "    }\n",
       "\n",
       "    .dataframe tbody tr th {\n",
       "        vertical-align: top;\n",
       "    }\n",
       "</style>\n",
       "<table border=\"1\" class=\"dataframe\">\n",
       "  <thead>\n",
       "    <tr style=\"text-align: right;\">\n",
       "      <th></th>\n",
       "      <th>title</th>\n",
       "      <th>director</th>\n",
       "      <th>actor</th>\n",
       "      <th>category</th>\n",
       "      <th>district</th>\n",
       "    </tr>\n",
       "  </thead>\n",
       "  <tbody>\n",
       "    <tr>\n",
       "      <th>count</th>\n",
       "      <td>4587</td>\n",
       "      <td>4583</td>\n",
       "      <td>4576</td>\n",
       "      <td>4563</td>\n",
       "      <td>4587</td>\n",
       "    </tr>\n",
       "    <tr>\n",
       "      <th>unique</th>\n",
       "      <td>4504</td>\n",
       "      <td>2596</td>\n",
       "      <td>4560</td>\n",
       "      <td>838</td>\n",
       "      <td>488</td>\n",
       "    </tr>\n",
       "    <tr>\n",
       "      <th>top</th>\n",
       "      <td>怪物</td>\n",
       "      <td>王晶</td>\n",
       "      <td>韩朔/刘冠成/李美慧/张哲浩</td>\n",
       "      <td>剧情</td>\n",
       "      <td>United States of America_美国</td>\n",
       "    </tr>\n",
       "    <tr>\n",
       "      <th>freq</th>\n",
       "      <td>3</td>\n",
       "      <td>19</td>\n",
       "      <td>6</td>\n",
       "      <td>447</td>\n",
       "      <td>1297</td>\n",
       "    </tr>\n",
       "  </tbody>\n",
       "</table>\n",
       "</div>"
      ],
      "text/plain": [
       "       title director           actor category                     district\n",
       "count   4587     4583            4576     4563                         4587\n",
       "unique  4504     2596            4560      838                          488\n",
       "top       怪物       王晶  韩朔/刘冠成/李美慧/张哲浩       剧情  United States of America_美国\n",
       "freq       3       19               6      447                         1297"
      ]
     },
     "execution_count": 67,
     "metadata": {},
     "output_type": "execute_result"
    }
   ],
   "source": [
    "# 查看数据集字符类型特征的统计分布情况\n",
    "df.describe(include=['O']) "
   ]
  },
  {
   "cell_type": "markdown",
   "metadata": {},
   "source": [
    "## 数据清洗&预处理\n",
    "- Completing\n",
    "- Correlating\n",
    "- Correcting\n",
    "- Creating\n",
    "- Classifying"
   ]
  },
  {
   "cell_type": "markdown",
   "metadata": {},
   "source": [
    "### Completing 缺失数据处理"
   ]
  },
  {
   "cell_type": "code",
   "execution_count": 68,
   "metadata": {
    "collapsed": true
   },
   "outputs": [],
   "source": [
    "df = df.dropna() # 去除缺失的行数"
   ]
  },
  {
   "cell_type": "markdown",
   "metadata": {},
   "source": [
    "### Correlating&charting 特征相关性分析\n",
    "- 直觉上电影片长和上映时间对电影的好坏影响不大\n",
    "- 做出趋势图验证相关性\n",
    "- 趋势一致，去除特征"
   ]
  },
  {
   "cell_type": "code",
   "execution_count": 69,
   "metadata": {},
   "outputs": [
    {
     "data": {
      "text/plain": [
       "<seaborn.axisgrid.FacetGrid at 0x7fd3ef8b6f98>"
      ]
     },
     "execution_count": 69,
     "metadata": {},
     "output_type": "execute_result"
    },
    {
     "data": {
      "image/png": "[encoded data removed]",
      "text/plain": [
       "<matplotlib.figure.Figure at 0x7fd3ed185630>"
      ]
     },
     "metadata": {},
     "output_type": "display_data"
    }
   ],
   "source": [
    "# 筛选数据，选择上映时间在2000年以上，电影时间大于1h的\n",
    "df = df[(df['showtime'] >= 2000) & (df['length'] >= 60)]\n",
    "# 电影的评分转换为标准字段 1（7.0以上评分推荐） 和 0（7.0以下不推荐） \n",
    "df['rm'] = df['rate'].apply(lambda s :1 if s >= 7 else 0)\n",
    "# 做出上映时间的趋势图\n",
    "g = sns.FacetGrid(df, col='rm')\n",
    "g.map(plt.hist, 'showtime', bins=20)"
   ]
  },
  {
   "cell_type": "code",
   "execution_count": 70,
   "metadata": {},
   "outputs": [
    {
     "data": {
      "text/plain": [
       "<seaborn.axisgrid.FacetGrid at 0x7fd3ecacda90>"
      ]
     },
     "execution_count": 70,
     "metadata": {},
     "output_type": "execute_result"
    },
    {
     "data": {
      "image/png": "[encoded data removed]",
      "text/plain": [
       "<matplotlib.figure.Figure at 0x7fd3ecacd7b8>"
      ]
     },
     "metadata": {},
     "output_type": "display_data"
    }
   ],
   "source": [
    "# 做出电影片长的趋势图\n",
    "g = sns.FacetGrid(df, col='rm')\n",
    "g.map(plt.hist, 'length', bins=20)"
   ]
  },
  {
   "cell_type": "code",
   "execution_count": 71,
   "metadata": {
    "collapsed": true
   },
   "outputs": [],
   "source": [
    "# 去除特征\n",
    "df = df[['id','title', 'rate','director', 'actor', 'category', 'district']]"
   ]
  },
  {
   "cell_type": "markdown",
   "metadata": {},
   "source": [
    "### Correcting 纠正特征内容\n",
    "- 地区特征存在多个地区，选择第一个地区作为特征值\n",
    "- 导演特征存在多个导演，选择第一个\n",
    "- 演员特征存在多个演员，拆分成2个特征，演员0 和演员1\n",
    "- 类型存在多个类型，拆分成3个特征，类型0、类型1、类型2"
   ]
  },
  {
   "cell_type": "code",
   "execution_count": 72,
   "metadata": {
    "collapsed": true
   },
   "outputs": [],
   "source": [
    "def get_district(district):\n",
    "    dis0 = district.split(\"/\")[0]\n",
    "    dis1 = re.findall(r\"[\\u4e00-\\u9fa5\\\\]+\", dis0)\n",
    "    if not dis1:\n",
    "        dis1 = \"UNK\"\n",
    "    return dis1[0]\n",
    "    \n",
    "# a = \"United States of America_美国\"   \n",
    "# get_district(a)\n",
    "# '美国' 'UNK'"
   ]
  },
  {
   "cell_type": "code",
   "execution_count": 73,
   "metadata": {},
   "outputs": [
    {
     "name": "stderr",
     "output_type": "stream",
     "text": [
      "/usr/local/lib/python3.5/dist-packages/ipykernel_launcher.py:1: SettingWithCopyWarning: \n",
      "A value is trying to be set on a copy of a slice from a DataFrame.\n",
      "Try using .loc[row_indexer,col_indexer] = value instead\n",
      "\n",
      "See the caveats in the documentation: http://pandas.pydata.org/pandas-docs/stable/indexing.html#indexing-view-versus-copy\n",
      "  \"\"\"Entry point for launching an IPython kernel.\n",
      "/usr/local/lib/python3.5/dist-packages/ipykernel_launcher.py:2: SettingWithCopyWarning: \n",
      "A value is trying to be set on a copy of a slice from a DataFrame.\n",
      "Try using .loc[row_indexer,col_indexer] = value instead\n",
      "\n",
      "See the caveats in the documentation: http://pandas.pydata.org/pandas-docs/stable/indexing.html#indexing-view-versus-copy\n",
      "  \n",
      "/usr/local/lib/python3.5/dist-packages/ipykernel_launcher.py:4: SettingWithCopyWarning: \n",
      "A value is trying to be set on a copy of a slice from a DataFrame.\n",
      "Try using .loc[row_indexer,col_indexer] = value instead\n",
      "\n",
      "See the caveats in the documentation: http://pandas.pydata.org/pandas-docs/stable/indexing.html#indexing-view-versus-copy\n",
      "  after removing the cwd from sys.path.\n",
      "/usr/local/lib/python3.5/dist-packages/ipykernel_launcher.py:5: SettingWithCopyWarning: \n",
      "A value is trying to be set on a copy of a slice from a DataFrame.\n",
      "Try using .loc[row_indexer,col_indexer] = value instead\n",
      "\n",
      "See the caveats in the documentation: http://pandas.pydata.org/pandas-docs/stable/indexing.html#indexing-view-versus-copy\n",
      "  \"\"\"\n"
     ]
    }
   ],
   "source": [
    "df['district'] = df['district'].apply(lambda s: get_district(s))\n",
    "df['director'] = df['director'].apply(lambda s: s.split(\"/\")[0])\n",
    "# 演员拆分成2个特征，演员0 和演员1\n",
    "df['actor0'] = df['actor'].apply(lambda s: s.split(\"/\")[0])\n",
    "df['actor1'] = df['actor'].apply(lambda s: s.split(\"/\")[1] if len(s.split(\"/\"))> 1 else \"UNK\")\n",
    "# 电影类型拆分成2个特征，类型0、类型1、类型2\n",
    "df['genre0'] = df['category'].apply(lambda s: s.split(\"/\")[0])\n",
    "df['genre1'] = df['category'].apply(lambda s: s.split(\"/\")[1] if len(s.split(\"/\"))> 1 else \"UNK\")\n",
    "df['genre2'] = df['category'].apply(lambda s: s.split(\"/\")[2] if len(s.split(\"/\"))> 2 else \"UNK\")"
   ]
  },
  {
   "cell_type": "markdown",
   "metadata": {},
   "source": [
    "### Creating 创建新特征"
   ]
  },
  {
   "cell_type": "code",
   "execution_count": 74,
   "metadata": {
    "collapsed": true
   },
   "outputs": [],
   "source": [
    "# 电影的评分转换为标准字段 1（7.0以上评分推荐） 和 0（7.0以下不推荐） \n",
    "df['rm'] = df['rate'].apply(lambda s :1 if s >= 7 else 0)\n",
    "df['nrm'] = df['rm'].apply(lambda s: int(not s))"
   ]
  },
  {
   "cell_type": "markdown",
   "metadata": {},
   "source": [
    "### Classifying 特征归类\n",
    "- 无\n",
    "- 起初认为数据稀疏，将导演手动归为4类，后来经童老师提醒，这样反而不那么智能了"
   ]
  },
  {
   "cell_type": "markdown",
   "metadata": {},
   "source": [
    "### 导出为标准数据集，完成数据清洗"
   ]
  },
  {
   "cell_type": "code",
   "execution_count": 75,
   "metadata": {
    "collapsed": true
   },
   "outputs": [],
   "source": [
    "df = df[['title','director','actor0','actor1','genre0','genre1','district','rate','rm']]\n",
    "df.to_csv('movie_clean_20180109.csv', encoding='utf-8')"
   ]
  },
  {
   "cell_type": "markdown",
   "metadata": {},
   "source": [
    "## 数据分析&探索\n",
    "- Correlating\n",
    "- Converting\n",
    "- Charting"
   ]
  },
  {
   "cell_type": "markdown",
   "metadata": {},
   "source": [
    "### Correlating 相关性\n",
    "- 电影类型的电影数量不一致，无法进行相关性分析\n",
    "- 电影上映地区的电影数量不一致，无法分析"
   ]
  },
  {
   "cell_type": "code",
   "execution_count": 28,
   "metadata": {},
   "outputs": [],
   "source": [
    "df_data = pd.read_csv('movie_clean_20180109.csv')\n",
    "df_director = df_data[['director', 'rate']].groupby(['director'], as_index=False).mean()\n",
    "# df_director[df_director['rate']==6.9] # 615 吴京 作为导演水平的均值 填充导演列表缺失的数据\n",
    "df_actor0 = df_data[['actor0', 'rate']].groupby(['actor0'], as_index=False).mean()\n",
    "# df_actor0[df_actor0['rate']==6.9] # 766 徐若瑄\t 作为演员0 水平的均值 填充缺失的数据\n",
    "df_actor1 = df_data[['actor1', 'rate']].groupby(['actor1'], as_index=False).mean()\n",
    "#df_actor1[df_actor1['rate']==6.9] # 1258 梁咏琪\t作为演员1 水平的均值 填充缺失的数据"
   ]
  },
  {
   "cell_type": "code",
   "execution_count": 56,
   "metadata": {},
   "outputs": [
    {
     "data": {
      "text/html": [
       "<div>\n",
       "<style>\n",
       "    .dataframe thead tr:only-child th {\n",
       "        text-align: right;\n",
       "    }\n",
       "\n",
       "    .dataframe thead th {\n",
       "        text-align: left;\n",
       "    }\n",
       "\n",
       "    .dataframe tbody tr th {\n",
       "        vertical-align: top;\n",
       "    }\n",
       "</style>\n",
       "<table border=\"1\" class=\"dataframe\">\n",
       "  <thead>\n",
       "    <tr style=\"text-align: right;\">\n",
       "      <th></th>\n",
       "      <th>0</th>\n",
       "      <th>20</th>\n",
       "      <th>8</th>\n",
       "      <th>4</th>\n",
       "      <th>19</th>\n",
       "      <th>2</th>\n",
       "      <th>13</th>\n",
       "      <th>5</th>\n",
       "      <th>1</th>\n",
       "      <th>7</th>\n",
       "      <th>6</th>\n",
       "      <th>3</th>\n",
       "      <th>16</th>\n",
       "      <th>10</th>\n",
       "      <th>17</th>\n",
       "      <th>18</th>\n",
       "      <th>15</th>\n",
       "      <th>12</th>\n",
       "      <th>9</th>\n",
       "      <th>14</th>\n",
       "    </tr>\n",
       "  </thead>\n",
       "  <tbody>\n",
       "    <tr>\n",
       "      <th>genre0</th>\n",
       "      <td>传记</td>\n",
       "      <td>音乐</td>\n",
       "      <td>家庭</td>\n",
       "      <td>动画</td>\n",
       "      <td>运动</td>\n",
       "      <td>剧情</td>\n",
       "      <td>战争</td>\n",
       "      <td>历史</td>\n",
       "      <td>冒险</td>\n",
       "      <td>奇幻</td>\n",
       "      <td>喜剧</td>\n",
       "      <td>动作</td>\n",
       "      <td>犯罪</td>\n",
       "      <td>悬疑</td>\n",
       "      <td>科幻</td>\n",
       "      <td>西部</td>\n",
       "      <td>爱情</td>\n",
       "      <td>惊悚</td>\n",
       "      <td>恐怖</td>\n",
       "      <td>歌舞</td>\n",
       "    </tr>\n",
       "    <tr>\n",
       "      <th>rate</th>\n",
       "      <td>8.66667</td>\n",
       "      <td>7.6</td>\n",
       "      <td>7.54</td>\n",
       "      <td>7.52667</td>\n",
       "      <td>7.4</td>\n",
       "      <td>7.26875</td>\n",
       "      <td>7.23333</td>\n",
       "      <td>7.05</td>\n",
       "      <td>7</td>\n",
       "      <td>6.9125</td>\n",
       "      <td>6.76825</td>\n",
       "      <td>6.70215</td>\n",
       "      <td>6.7</td>\n",
       "      <td>6.5507</td>\n",
       "      <td>6.51379</td>\n",
       "      <td>6.5</td>\n",
       "      <td>6.48889</td>\n",
       "      <td>5.98731</td>\n",
       "      <td>5.94231</td>\n",
       "      <td>5.9</td>\n",
       "    </tr>\n",
       "  </tbody>\n",
       "</table>\n",
       "</div>"
      ],
      "text/plain": [
       "             0    20    8        4    19       2        13    5   1       7   \\\n",
       "genre0       传记   音乐    家庭       动画   运动       剧情       战争    历史  冒险      奇幻   \n",
       "rate    8.66667  7.6  7.54  7.52667  7.4  7.26875  7.23333  7.05   7  6.9125   \n",
       "\n",
       "             6        3    16      10       17   18       15       12  \\\n",
       "genre0       喜剧       动作   犯罪      悬疑       科幻   西部       爱情       惊悚   \n",
       "rate    6.76825  6.70215  6.7  6.5507  6.51379  6.5  6.48889  5.98731   \n",
       "\n",
       "             9    14  \n",
       "genre0       恐怖   歌舞  \n",
       "rate    5.94231  5.9  "
      ]
     },
     "execution_count": 56,
     "metadata": {},
     "output_type": "execute_result"
    }
   ],
   "source": [
    "# 电影类型与评分高低的关系\n",
    "df_data[['genre0', 'rate']].groupby(['genre0'], as_index=False).mean().sort_values(by='rate', ascending=False)[0:20].T"
   ]
  },
  {
   "cell_type": "code",
   "execution_count": 57,
   "metadata": {},
   "outputs": [
    {
     "data": {
      "text/html": [
       "<div>\n",
       "<style>\n",
       "    .dataframe thead tr:only-child th {\n",
       "        text-align: right;\n",
       "    }\n",
       "\n",
       "    .dataframe thead th {\n",
       "        text-align: left;\n",
       "    }\n",
       "\n",
       "    .dataframe tbody tr th {\n",
       "        vertical-align: top;\n",
       "    }\n",
       "</style>\n",
       "<table border=\"1\" class=\"dataframe\">\n",
       "  <thead>\n",
       "    <tr style=\"text-align: right;\">\n",
       "      <th></th>\n",
       "      <th>2</th>\n",
       "      <th>6</th>\n",
       "      <th>3</th>\n",
       "      <th>10</th>\n",
       "      <th>12</th>\n",
       "      <th>15</th>\n",
       "      <th>9</th>\n",
       "      <th>17</th>\n",
       "      <th>4</th>\n",
       "      <th>7</th>\n",
       "      <th>8</th>\n",
       "      <th>5</th>\n",
       "      <th>19</th>\n",
       "      <th>0</th>\n",
       "      <th>13</th>\n",
       "      <th>1</th>\n",
       "      <th>20</th>\n",
       "      <th>11</th>\n",
       "      <th>14</th>\n",
       "      <th>16</th>\n",
       "    </tr>\n",
       "  </thead>\n",
       "  <tbody>\n",
       "    <tr>\n",
       "      <th>genre0</th>\n",
       "      <td>剧情</td>\n",
       "      <td>喜剧</td>\n",
       "      <td>动作</td>\n",
       "      <td>悬疑</td>\n",
       "      <td>惊悚</td>\n",
       "      <td>爱情</td>\n",
       "      <td>恐怖</td>\n",
       "      <td>科幻</td>\n",
       "      <td>动画</td>\n",
       "      <td>奇幻</td>\n",
       "      <td>家庭</td>\n",
       "      <td>历史</td>\n",
       "      <td>运动</td>\n",
       "      <td>传记</td>\n",
       "      <td>战争</td>\n",
       "      <td>冒险</td>\n",
       "      <td>音乐</td>\n",
       "      <td>情色</td>\n",
       "      <td>歌舞</td>\n",
       "      <td>犯罪</td>\n",
       "    </tr>\n",
       "    <tr>\n",
       "      <th>rate</th>\n",
       "      <td>1632</td>\n",
       "      <td>652</td>\n",
       "      <td>418</td>\n",
       "      <td>142</td>\n",
       "      <td>134</td>\n",
       "      <td>90</td>\n",
       "      <td>78</td>\n",
       "      <td>58</td>\n",
       "      <td>15</td>\n",
       "      <td>8</td>\n",
       "      <td>5</td>\n",
       "      <td>4</td>\n",
       "      <td>3</td>\n",
       "      <td>3</td>\n",
       "      <td>3</td>\n",
       "      <td>3</td>\n",
       "      <td>3</td>\n",
       "      <td>2</td>\n",
       "      <td>1</td>\n",
       "      <td>1</td>\n",
       "    </tr>\n",
       "  </tbody>\n",
       "</table>\n",
       "</div>"
      ],
      "text/plain": [
       "          2    6    3    10   12  15  9   17  4   7   8   5   19  0   13  1   \\\n",
       "genre0    剧情   喜剧   动作   悬疑   惊悚  爱情  恐怖  科幻  动画  奇幻  家庭  历史  运动  传记  战争  冒险   \n",
       "rate    1632  652  418  142  134  90  78  58  15   8   5   4   3   3   3   3   \n",
       "\n",
       "        20  11  14  16  \n",
       "genre0  音乐  情色  歌舞  犯罪  \n",
       "rate     3   2   1   1  "
      ]
     },
     "execution_count": 57,
     "metadata": {},
     "output_type": "execute_result"
    }
   ],
   "source": [
    "# 电影类型的数量\n",
    "df_data[['genre0', 'rate']].groupby(['genre0'], as_index=False).count().sort_values(by='rate', ascending=False)[0:20].T\n",
    "# 数量不一致，评分对比没有意义"
   ]
  },
  {
   "cell_type": "code",
   "execution_count": 76,
   "metadata": {},
   "outputs": [
    {
     "data": {
      "text/html": [
       "<div>\n",
       "<style>\n",
       "    .dataframe thead tr:only-child th {\n",
       "        text-align: right;\n",
       "    }\n",
       "\n",
       "    .dataframe thead th {\n",
       "        text-align: left;\n",
       "    }\n",
       "\n",
       "    .dataframe tbody tr th {\n",
       "        vertical-align: top;\n",
       "    }\n",
       "</style>\n",
       "<table border=\"1\" class=\"dataframe\">\n",
       "  <thead>\n",
       "    <tr style=\"text-align: right;\">\n",
       "      <th></th>\n",
       "      <th>40</th>\n",
       "      <th>46</th>\n",
       "      <th>27</th>\n",
       "      <th>2</th>\n",
       "      <th>47</th>\n",
       "      <th>42</th>\n",
       "      <th>31</th>\n",
       "      <th>33</th>\n",
       "      <th>14</th>\n",
       "    </tr>\n",
       "  </thead>\n",
       "  <tbody>\n",
       "    <tr>\n",
       "      <th>district</th>\n",
       "      <td>美国</td>\n",
       "      <td>韩国</td>\n",
       "      <td>日本</td>\n",
       "      <td>中国大陆</td>\n",
       "      <td>香港</td>\n",
       "      <td>英国</td>\n",
       "      <td>法国</td>\n",
       "      <td>泰国</td>\n",
       "      <td>台湾</td>\n",
       "    </tr>\n",
       "    <tr>\n",
       "      <th>rate</th>\n",
       "      <td>1168</td>\n",
       "      <td>462</td>\n",
       "      <td>423</td>\n",
       "      <td>355</td>\n",
       "      <td>188</td>\n",
       "      <td>172</td>\n",
       "      <td>112</td>\n",
       "      <td>44</td>\n",
       "      <td>38</td>\n",
       "    </tr>\n",
       "  </tbody>\n",
       "</table>\n",
       "</div>"
      ],
      "text/plain": [
       "            40   46   27    2    47   42   31  33  14\n",
       "district    美国   韩国   日本  中国大陆   香港   英国   法国  泰国  台湾\n",
       "rate      1168  462  423   355  188  172  112  44  38"
      ]
     },
     "execution_count": 76,
     "metadata": {},
     "output_type": "execute_result"
    }
   ],
   "source": [
    "df_data[[\"district\", \"rate\"]].groupby(['district'], as_index=False).count().sort_values(by='rate', ascending=False)[0:9].T"
   ]
  },
  {
   "cell_type": "markdown",
   "metadata": {},
   "source": [
    "### Converting 特征向量化\n",
    "- 导演特征转数字\n",
    "- 演员特征转数字\n",
    "- 类型特征转数字\n",
    "- 地区特征转数字"
   ]
  },
  {
   "cell_type": "code",
   "execution_count": 53,
   "metadata": {
    "collapsed": true
   },
   "outputs": [],
   "source": [
    "df_data = pd.read_csv('movie_clean_20180109.csv')\n",
    "# 特征 导演 文本转数字\n",
    "director_list = df_data['director'].drop_duplicates().tolist()\n",
    "director_dic = {c: i for i, c in enumerate(director_list)}\n",
    "df_data = df_data.replace({'director': director_dic})\n",
    "# 特征  演员0  文本转数字\n",
    "actor0_list = df_data['actor0'].drop_duplicates().tolist()\n",
    "actor0_dic = {c: i for i, c in enumerate(actor0_list)}\n",
    "df_data = df_data.replace({'actor0': actor0_dic})\n",
    "# 特征 演员1  文本转数字\n",
    "actor1_list = df_data['actor1'].drop_duplicates().tolist()\n",
    "actor1_dic = {c: i for i, c in enumerate(actor1_list)}\n",
    "df_data = df_data.replace({'actor1': actor1_dic})\n",
    "# 特征  类型0  文本转数字\n",
    "genre0_list = df_data['genre0'].drop_duplicates().tolist()\n",
    "genre0_dic = {c: i for i, c in enumerate(genre0_list)}\n",
    "df_data = df_data.replace({'genre0': genre0_dic})\n",
    "# 特征 演员1  文本转数字\n",
    "genre1_list = df_data['genre1'].drop_duplicates().tolist()\n",
    "genre1_dic = {c: i for i, c in enumerate(genre1_list)}\n",
    "df_data = df_data.replace({'genre1': genre1_dic})\n",
    "# 特征  地区  文本转数字\n",
    "district_list = df_data['district'].drop_duplicates().tolist()\n",
    "district_dic = {c: i for i, c in enumerate(district_list)}\n",
    "df_data = df_data.replace({'district': district_dic})"
   ]
  },
  {
   "cell_type": "code",
   "execution_count": 54,
   "metadata": {},
   "outputs": [
    {
     "data": {
      "text/html": [
       "<div>\n",
       "<style>\n",
       "    .dataframe thead tr:only-child th {\n",
       "        text-align: right;\n",
       "    }\n",
       "\n",
       "    .dataframe thead th {\n",
       "        text-align: left;\n",
       "    }\n",
       "\n",
       "    .dataframe tbody tr th {\n",
       "        vertical-align: top;\n",
       "    }\n",
       "</style>\n",
       "<table border=\"1\" class=\"dataframe\">\n",
       "  <thead>\n",
       "    <tr style=\"text-align: right;\">\n",
       "      <th></th>\n",
       "      <th>Unnamed: 0</th>\n",
       "      <th>director</th>\n",
       "      <th>actor0</th>\n",
       "      <th>actor1</th>\n",
       "      <th>genre0</th>\n",
       "      <th>genre1</th>\n",
       "      <th>district</th>\n",
       "      <th>rate</th>\n",
       "      <th>rm</th>\n",
       "      <th>nrm</th>\n",
       "    </tr>\n",
       "  </thead>\n",
       "  <tbody>\n",
       "    <tr>\n",
       "      <th>count</th>\n",
       "      <td>3256.000000</td>\n",
       "      <td>3256.000000</td>\n",
       "      <td>3256.000000</td>\n",
       "      <td>3256.000000</td>\n",
       "      <td>3256.000000</td>\n",
       "      <td>3256.000000</td>\n",
       "      <td>3256.000000</td>\n",
       "      <td>3256.000000</td>\n",
       "      <td>3256.000000</td>\n",
       "      <td>3256.000000</td>\n",
       "    </tr>\n",
       "    <tr>\n",
       "      <th>mean</th>\n",
       "      <td>2268.565418</td>\n",
       "      <td>878.689803</td>\n",
       "      <td>683.010442</td>\n",
       "      <td>914.710995</td>\n",
       "      <td>2.656634</td>\n",
       "      <td>7.429054</td>\n",
       "      <td>4.537469</td>\n",
       "      <td>6.944625</td>\n",
       "      <td>0.515049</td>\n",
       "      <td>0.484951</td>\n",
       "    </tr>\n",
       "    <tr>\n",
       "      <th>std</th>\n",
       "      <td>1347.085581</td>\n",
       "      <td>558.509360</td>\n",
       "      <td>476.594549</td>\n",
       "      <td>588.626728</td>\n",
       "      <td>3.075502</td>\n",
       "      <td>5.534631</td>\n",
       "      <td>6.783132</td>\n",
       "      <td>1.033177</td>\n",
       "      <td>0.499850</td>\n",
       "      <td>0.499850</td>\n",
       "    </tr>\n",
       "    <tr>\n",
       "      <th>min</th>\n",
       "      <td>0.000000</td>\n",
       "      <td>0.000000</td>\n",
       "      <td>0.000000</td>\n",
       "      <td>0.000000</td>\n",
       "      <td>0.000000</td>\n",
       "      <td>0.000000</td>\n",
       "      <td>0.000000</td>\n",
       "      <td>2.500000</td>\n",
       "      <td>0.000000</td>\n",
       "      <td>0.000000</td>\n",
       "    </tr>\n",
       "    <tr>\n",
       "      <th>25%</th>\n",
       "      <td>979.750000</td>\n",
       "      <td>425.000000</td>\n",
       "      <td>256.000000</td>\n",
       "      <td>424.750000</td>\n",
       "      <td>0.000000</td>\n",
       "      <td>3.000000</td>\n",
       "      <td>1.000000</td>\n",
       "      <td>6.300000</td>\n",
       "      <td>0.000000</td>\n",
       "      <td>0.000000</td>\n",
       "    </tr>\n",
       "    <tr>\n",
       "      <th>50%</th>\n",
       "      <td>2337.500000</td>\n",
       "      <td>849.500000</td>\n",
       "      <td>606.000000</td>\n",
       "      <td>874.000000</td>\n",
       "      <td>0.000000</td>\n",
       "      <td>5.000000</td>\n",
       "      <td>3.000000</td>\n",
       "      <td>7.000000</td>\n",
       "      <td>1.000000</td>\n",
       "      <td>0.000000</td>\n",
       "    </tr>\n",
       "    <tr>\n",
       "      <th>75%</th>\n",
       "      <td>3371.250000</td>\n",
       "      <td>1336.250000</td>\n",
       "      <td>1060.000000</td>\n",
       "      <td>1398.250000</td>\n",
       "      <td>5.000000</td>\n",
       "      <td>12.000000</td>\n",
       "      <td>6.000000</td>\n",
       "      <td>7.700000</td>\n",
       "      <td>1.000000</td>\n",
       "      <td>1.000000</td>\n",
       "    </tr>\n",
       "    <tr>\n",
       "      <th>max</th>\n",
       "      <td>4584.000000</td>\n",
       "      <td>1985.000000</td>\n",
       "      <td>1710.000000</td>\n",
       "      <td>2092.000000</td>\n",
       "      <td>20.000000</td>\n",
       "      <td>25.000000</td>\n",
       "      <td>48.000000</td>\n",
       "      <td>9.300000</td>\n",
       "      <td>1.000000</td>\n",
       "      <td>1.000000</td>\n",
       "    </tr>\n",
       "  </tbody>\n",
       "</table>\n",
       "</div>"
      ],
      "text/plain": [
       "        Unnamed: 0     director       actor0       actor1       genre0  \\\n",
       "count  3256.000000  3256.000000  3256.000000  3256.000000  3256.000000   \n",
       "mean   2268.565418   878.689803   683.010442   914.710995     2.656634   \n",
       "std    1347.085581   558.509360   476.594549   588.626728     3.075502   \n",
       "min       0.000000     0.000000     0.000000     0.000000     0.000000   \n",
       "25%     979.750000   425.000000   256.000000   424.750000     0.000000   \n",
       "50%    2337.500000   849.500000   606.000000   874.000000     0.000000   \n",
       "75%    3371.250000  1336.250000  1060.000000  1398.250000     5.000000   \n",
       "max    4584.000000  1985.000000  1710.000000  2092.000000    20.000000   \n",
       "\n",
       "            genre1     district         rate           rm          nrm  \n",
       "count  3256.000000  3256.000000  3256.000000  3256.000000  3256.000000  \n",
       "mean      7.429054     4.537469     6.944625     0.515049     0.484951  \n",
       "std       5.534631     6.783132     1.033177     0.499850     0.499850  \n",
       "min       0.000000     0.000000     2.500000     0.000000     0.000000  \n",
       "25%       3.000000     1.000000     6.300000     0.000000     0.000000  \n",
       "50%       5.000000     3.000000     7.000000     1.000000     0.000000  \n",
       "75%      12.000000     6.000000     7.700000     1.000000     1.000000  \n",
       "max      25.000000    48.000000     9.300000     1.000000     1.000000  "
      ]
     },
     "execution_count": 54,
     "metadata": {},
     "output_type": "execute_result"
    }
   ],
   "source": [
    "df_data['nrm'] = df_data['rm'].apply(lambda s: int(not s))\n",
    "df_data.describe()"
   ]
  },
  {
   "cell_type": "markdown",
   "metadata": {},
   "source": [
    "## 构建模型&训练参数\n",
    "- 拆分数据集\n",
    "- 构建TensorFlow计算图\n",
    "- 训练参数"
   ]
  },
  {
   "cell_type": "markdown",
   "metadata": {},
   "source": [
    "### 拆分数据集"
   ]
  },
  {
   "cell_type": "code",
   "execution_count": 55,
   "metadata": {
    "collapsed": true
   },
   "outputs": [],
   "source": [
    "# 标签字段\n",
    "dataset_Y  = df_data[['rm', 'nrm']]\n",
    "dataset_Y = dataset_Y.as_matrix()\n",
    "# dataset_Y\n",
    "\n",
    "# 特征字段\n",
    "dataset_X = df_data[['director', 'actor0', 'actor1', 'genre0', 'genre1', 'district']]\n",
    "dataset_X = dataset_X.as_matrix()"
   ]
  },
  {
   "cell_type": "code",
   "execution_count": 56,
   "metadata": {},
   "outputs": [
    {
     "name": "stdout",
     "output_type": "stream",
     "text": [
      "训练数据特征值的维度为(2604, 6)\n",
      "训练数据标签值的维度为(2604, 2)\n",
      "验证数据特征值的维度为(652, 6)\n",
      "验证数据特征值的维度为(652, 2)\n"
     ]
    }
   ],
   "source": [
    "# 使用sklearn的train_test_split函数将标记数据切分为“训练数据集”和“验证数据集”\n",
    "# 将全部标记数据随机洗牌后切分，其中验证数据占20%，由 test_size数据指定\n",
    "X_train, X_test, y_train, y_test = train_test_split(dataset_X, dataset_Y, test_size=0.2, random_state=42)\n",
    "print(\"训练数据特征值的维度为{}\".format(X_train.shape))\n",
    "print(\"训练数据标签值的维度为{}\".format(y_train.shape))\n",
    "print(\"验证数据特征值的维度为{}\".format(X_test.shape))\n",
    "print(\"验证数据特征值的维度为{}\".format(y_test.shape))"
   ]
  },
  {
   "cell_type": "markdown",
   "metadata": {},
   "source": [
    "### 构建计算图 "
   ]
  },
  {
   "cell_type": "code",
   "execution_count": 57,
   "metadata": {
    "collapsed": true
   },
   "outputs": [],
   "source": [
    "# 特征数据x由6个字段组成，标记值y由2个字段组成\n",
    "x = tf.placeholder(tf.float32, shape=[None, 6])\n",
    "y = tf.placeholder(tf.float32)"
   ]
  },
  {
   "cell_type": "code",
   "execution_count": 58,
   "metadata": {
    "collapsed": true
   },
   "outputs": [],
   "source": [
    "# 声明需要训练的变量\n",
    "w = tf.Variable(tf.random_normal([6, 2]), name='weights')\n",
    "b = tf.Variable(tf.zeros([2]), name='bias')\n",
    "# 存储模型参数\n",
    "saver = tf.train.Saver()"
   ]
  },
  {
   "cell_type": "code",
   "execution_count": 59,
   "metadata": {
    "collapsed": true
   },
   "outputs": [],
   "source": [
    "# 构造前向传播计算图\n",
    "y_pred = tf.nn.softmax(tf.matmul(x, w) + b)\n",
    "# 构造代价函数\n",
    "cross_entropy = -tf.reduce_sum(y * tf.log(y_pred + 1e-10), reduction_indices=1)\n",
    "cost = tf.reduce_mean(cross_entropy)\n",
    "# 梯度下降算法\n",
    "train_op = tf.train.AdagradOptimizer(0.03).minimize(cost)"
   ]
  },
  {
   "cell_type": "markdown",
   "metadata": {},
   "source": [
    "### 训练参数"
   ]
  },
  {
   "cell_type": "code",
   "execution_count": 60,
   "metadata": {},
   "outputs": [
    {
     "name": "stdout",
     "output_type": "stream",
     "text": [
      "Epoch: 0001, total loss=21097.898578644\n",
      "Epoch: 0002, total loss=18609.576601028\n",
      "Epoch: 0003, total loss=18545.154001236\n",
      "Epoch: 0004, total loss=18491.808577538\n",
      "Epoch: 0005, total loss=17332.479163647\n",
      "Epoch: 0006, total loss=8116.447597265\n",
      "Epoch: 0007, total loss=1820.162974477\n",
      "Epoch: 0008, total loss=1513.573924720\n",
      "Epoch: 0009, total loss=1424.404783785\n",
      "Epoch: 0010, total loss=1381.946475983\n",
      "w=[[-0.3322717  -0.331467  ]\n",
      " [ 0.47127104  0.47173035]\n",
      " [-0.59703219 -0.59665263]\n",
      " [-0.02604439  0.18157177]\n",
      " [ 0.60968137  0.63863182]\n",
      " [ 1.32686865  1.30225134]]\n",
      "b=[ 0.90719604 -0.90719533]\n",
      "Training complete.\n"
     ]
    }
   ],
   "source": [
    "training_steps = 2000\n",
    "costs = []\n",
    "with tf.Session() as sess:\n",
    "    sess.run(tf.global_variables_initializer())\n",
    "    \n",
    "    for epoch in range(10):\n",
    "        total_loss = 0\n",
    "        for i in range(training_steps):\n",
    "            feed = {x: X_train, y: y_train}\n",
    "            _, loss = sess.run([train_op, cost], feed_dict=feed)\n",
    "            total_loss += loss\n",
    "            costs.append(loss)\n",
    "        \n",
    "        print('Epoch: %04d, total loss=%.9f' % (epoch + 1, total_loss))\n",
    "    \n",
    "    W = sess.run(w)\n",
    "    B = sess.run(b)\n",
    "    print(\"w={}\\nb={}\".format(W, B))\n",
    "    print('Training complete.')\n",
    "    \n",
    "\n",
    "    # 评估校验数据集上的准确率\n",
    "    pred = sess.run(y_pred, feed_dict={x:X_test})\n",
    "    \n",
    "    # 存储变量数据\n",
    "    saver.save(sess, \"model_movie.ckpt\")"
   ]
  },
  {
   "cell_type": "code",
   "execution_count": 61,
   "metadata": {},
   "outputs": [
    {
     "data": {
      "text/plain": [
       "[<matplotlib.lines.Line2D at 0x7f262742def0>]"
      ]
     },
     "execution_count": 61,
     "metadata": {},
     "output_type": "execute_result"
    },
    {
     "data": {
      "image/png": "[encoded data removed]",
      "text/plain": [
       "<matplotlib.figure.Figure at 0x7f2627cdcda0>"
      ]
     },
     "metadata": {},
     "output_type": "display_data"
    }
   ],
   "source": [
    "plt.plot(costs)"
   ]
  },
  {
   "cell_type": "markdown",
   "metadata": {},
   "source": [
    "## 验证&预测结果"
   ]
  },
  {
   "cell_type": "markdown",
   "metadata": {},
   "source": [
    "### 验证数据集上的预测正确率"
   ]
  },
  {
   "cell_type": "code",
   "execution_count": 62,
   "metadata": {},
   "outputs": [
    {
     "name": "stdout",
     "output_type": "stream",
     "text": [
      "<class 'numpy.ndarray'>\n",
      "(652, 2)\n",
      "<class 'numpy.ndarray'>\n",
      "(652, 2)\n"
     ]
    }
   ],
   "source": [
    "print(type(pred))\n",
    "print(pred.shape)\n",
    "print(type(y_test))\n",
    "print(y_test.shape)"
   ]
  },
  {
   "cell_type": "code",
   "execution_count": 63,
   "metadata": {},
   "outputs": [
    {
     "name": "stdout",
     "output_type": "stream",
     "text": [
      "Accuracy on validation set: 0.628834367\n"
     ]
    }
   ],
   "source": [
    "correct = np.equal(np.argmax(pred, 1), np.argmax(y_test, 1))\n",
    "accuracy = np.mean(correct.astype(np.float32))\n",
    "print(\"Accuracy on validation set: %.9f\" % (accuracy)) # 验证数据集上的预测正确率"
   ]
  },
  {
   "cell_type": "markdown",
   "metadata": {},
   "source": [
    "### 预测电影结果"
   ]
  },
  {
   "cell_type": "code",
   "execution_count": 47,
   "metadata": {},
   "outputs": [
    {
     "data": {
      "text/html": [
       "<div>\n",
       "<style>\n",
       "    .dataframe thead tr:only-child th {\n",
       "        text-align: right;\n",
       "    }\n",
       "\n",
       "    .dataframe thead th {\n",
       "        text-align: left;\n",
       "    }\n",
       "\n",
       "    .dataframe tbody tr th {\n",
       "        vertical-align: top;\n",
       "    }\n",
       "</style>\n",
       "<table border=\"1\" class=\"dataframe\">\n",
       "  <thead>\n",
       "    <tr style=\"text-align: right;\">\n",
       "      <th></th>\n",
       "      <th>title</th>\n",
       "      <th>director</th>\n",
       "      <th>actor0</th>\n",
       "      <th>actor1</th>\n",
       "      <th>genre0</th>\n",
       "      <th>genre1</th>\n",
       "      <th>district1</th>\n",
       "      <th>rate</th>\n",
       "    </tr>\n",
       "  </thead>\n",
       "  <tbody>\n",
       "    <tr>\n",
       "      <th>15</th>\n",
       "      <td>唐人街探案2</td>\n",
       "      <td>陈思诚</td>\n",
       "      <td>王宝强</td>\n",
       "      <td>刘昊然</td>\n",
       "      <td>喜剧</td>\n",
       "      <td>动作</td>\n",
       "      <td>中国大陆</td>\n",
       "      <td>NaN</td>\n",
       "    </tr>\n",
       "    <tr>\n",
       "      <th>16</th>\n",
       "      <td>捉妖记2</td>\n",
       "      <td>许诚毅</td>\n",
       "      <td>梁朝伟</td>\n",
       "      <td>白百何</td>\n",
       "      <td>喜剧</td>\n",
       "      <td>奇幻</td>\n",
       "      <td>中国大陆</td>\n",
       "      <td>NaN</td>\n",
       "    </tr>\n",
       "    <tr>\n",
       "      <th>17</th>\n",
       "      <td>西游记女儿国</td>\n",
       "      <td>郑保瑞</td>\n",
       "      <td>郭富城</td>\n",
       "      <td>冯绍峰</td>\n",
       "      <td>喜剧</td>\n",
       "      <td>爱情</td>\n",
       "      <td>中国大陆</td>\n",
       "      <td>NaN</td>\n",
       "    </tr>\n",
       "    <tr>\n",
       "      <th>18</th>\n",
       "      <td>狄仁杰之四大天王</td>\n",
       "      <td>徐克</td>\n",
       "      <td>赵又廷</td>\n",
       "      <td>冯绍峰</td>\n",
       "      <td>动作</td>\n",
       "      <td>悬疑</td>\n",
       "      <td>中国大陆</td>\n",
       "      <td>NaN</td>\n",
       "    </tr>\n",
       "    <tr>\n",
       "      <th>19</th>\n",
       "      <td>祖宗十九代</td>\n",
       "      <td>郭德纲</td>\n",
       "      <td>岳云鹏</td>\n",
       "      <td>吴京</td>\n",
       "      <td>喜剧</td>\n",
       "      <td>奇幻</td>\n",
       "      <td>中国大陆</td>\n",
       "      <td>NaN</td>\n",
       "    </tr>\n",
       "  </tbody>\n",
       "</table>\n",
       "</div>"
      ],
      "text/plain": [
       "       title director actor0 actor1 genre0 genre1 district1  rate\n",
       "15    唐人街探案2      陈思诚    王宝强    刘昊然     喜剧     动作      中国大陆   NaN\n",
       "16      捉妖记2      许诚毅    梁朝伟    白百何     喜剧     奇幻      中国大陆   NaN\n",
       "17    西游记女儿国      郑保瑞    郭富城    冯绍峰     喜剧     爱情      中国大陆   NaN\n",
       "18  狄仁杰之四大天王       徐克    赵又廷    冯绍峰     动作     悬疑      中国大陆   NaN\n",
       "19     祖宗十九代      郭德纲    岳云鹏     吴京     喜剧     奇幻      中国大陆   NaN"
      ]
     },
     "execution_count": 47,
     "metadata": {},
     "output_type": "execute_result"
    }
   ],
   "source": [
    "# 读入测试数据并进行预处理\n",
    "testdata = pd.read_csv('movie_test.csv')\n",
    "testdata.tail()"
   ]
  },
  {
   "cell_type": "code",
   "execution_count": 48,
   "metadata": {},
   "outputs": [],
   "source": [
    "# 615 吴京 作为导演水平的均值 填充导演列表缺失的数据\n",
    "testdata['director'] = testdata['director'].apply(lambda s: director_dic.get(s))\n",
    "testdata['director'] = testdata['director'].fillna(615)\n",
    "# 766 徐若瑄 作为演员0 水平的均值 填充缺失的数据\n",
    "testdata['actor0'] = testdata['actor0'].apply(lambda s: actor0_dic.get(s))\n",
    "testdata['actor0'] = testdata['actor0'].fillna(766)\n",
    "# 1258 梁咏琪 作为演员1 水平的均值 填充缺失的数据\n",
    "testdata['actor1'] = testdata['actor1'].apply(lambda s: actor1_dic.get(s))\n",
    "testdata['actor1'] = testdata['actor1'].fillna(1258)\n",
    "\n",
    "testdata['genre0'] = testdata['genre0'].apply(lambda s: genre0_dic.get(s))\n",
    "testdata['genre1'] = testdata['genre1'].apply(lambda s: genre1_dic.get(s))\n",
    "testdata['district1'] = testdata['district1'].apply(lambda s: district_dic.get(s))"
   ]
  },
  {
   "cell_type": "code",
   "execution_count": 66,
   "metadata": {},
   "outputs": [],
   "source": [
    "movie_test = testdata[['director', 'actor0', 'actor1', 'genre0', 'genre1', 'district1']]"
   ]
  },
  {
   "cell_type": "code",
   "execution_count": 67,
   "metadata": {},
   "outputs": [
    {
     "name": "stdout",
     "output_type": "stream",
     "text": [
      "INFO:tensorflow:Restoring parameters from model_movie.ckpt\n"
     ]
    }
   ],
   "source": [
    "with tf.Session() as sess:\n",
    "    saver.restore(sess, 'model_movie.ckpt')\n",
    "    predictions = np.argmax(sess.run(y_pred, feed_dict={x:movie_test}), 1)"
   ]
  },
  {
   "cell_type": "code",
   "execution_count": 72,
   "metadata": {},
   "outputs": [
    {
     "data": {
      "text/html": [
       "<div>\n",
       "<style>\n",
       "    .dataframe thead tr:only-child th {\n",
       "        text-align: right;\n",
       "    }\n",
       "\n",
       "    .dataframe thead th {\n",
       "        text-align: left;\n",
       "    }\n",
       "\n",
       "    .dataframe tbody tr th {\n",
       "        vertical-align: top;\n",
       "    }\n",
       "</style>\n",
       "<table border=\"1\" class=\"dataframe\">\n",
       "  <thead>\n",
       "    <tr style=\"text-align: right;\">\n",
       "      <th></th>\n",
       "      <th>title</th>\n",
       "      <th>director</th>\n",
       "      <th>actor0</th>\n",
       "      <th>actor1</th>\n",
       "      <th>genre0</th>\n",
       "      <th>genre1</th>\n",
       "      <th>district1</th>\n",
       "      <th>rate</th>\n",
       "      <th>rm</th>\n",
       "    </tr>\n",
       "  </thead>\n",
       "  <tbody>\n",
       "    <tr>\n",
       "      <th>0</th>\n",
       "      <td>妖猫传</td>\n",
       "      <td>陈凯歌</td>\n",
       "      <td>黄轩</td>\n",
       "      <td>染谷将太</td>\n",
       "      <td>剧情</td>\n",
       "      <td>悬疑</td>\n",
       "      <td>中国大陆</td>\n",
       "      <td>7.0</td>\n",
       "      <td>不推荐</td>\n",
       "    </tr>\n",
       "    <tr>\n",
       "      <th>1</th>\n",
       "      <td>星球大战8：最后的绝地武士</td>\n",
       "      <td>莱恩·约翰逊</td>\n",
       "      <td>马克·哈米尔</td>\n",
       "      <td>凯丽·费雪</td>\n",
       "      <td>动作</td>\n",
       "      <td>科幻</td>\n",
       "      <td>美国</td>\n",
       "      <td>7.4</td>\n",
       "      <td>推荐</td>\n",
       "    </tr>\n",
       "    <tr>\n",
       "      <th>2</th>\n",
       "      <td>追龙</td>\n",
       "      <td>王晶</td>\n",
       "      <td>甄子丹</td>\n",
       "      <td>刘德华</td>\n",
       "      <td>动作</td>\n",
       "      <td>犯罪</td>\n",
       "      <td>中国大陆</td>\n",
       "      <td>7.3</td>\n",
       "      <td>推荐</td>\n",
       "    </tr>\n",
       "    <tr>\n",
       "      <th>3</th>\n",
       "      <td>芳华</td>\n",
       "      <td>冯小刚</td>\n",
       "      <td>黄轩</td>\n",
       "      <td>苗苗</td>\n",
       "      <td>剧情</td>\n",
       "      <td>历史</td>\n",
       "      <td>中国大陆</td>\n",
       "      <td>7.8</td>\n",
       "      <td>推荐</td>\n",
       "    </tr>\n",
       "    <tr>\n",
       "      <th>4</th>\n",
       "      <td>第一夫人 Jackie</td>\n",
       "      <td>帕布罗·拉雷恩</td>\n",
       "      <td>娜塔莉·波特曼</td>\n",
       "      <td>彼得·萨斯加德</td>\n",
       "      <td>剧情</td>\n",
       "      <td>传记</td>\n",
       "      <td>美国</td>\n",
       "      <td>6.6</td>\n",
       "      <td>推荐</td>\n",
       "    </tr>\n",
       "    <tr>\n",
       "      <th>5</th>\n",
       "      <td>悟空传</td>\n",
       "      <td>郭子健</td>\n",
       "      <td>彭于晏</td>\n",
       "      <td>倪妮</td>\n",
       "      <td>剧情</td>\n",
       "      <td>动作</td>\n",
       "      <td>中国大陆</td>\n",
       "      <td>5.1</td>\n",
       "      <td>不推荐</td>\n",
       "    </tr>\n",
       "    <tr>\n",
       "      <th>6</th>\n",
       "      <td>合约男女</td>\n",
       "      <td>刘国楠</td>\n",
       "      <td>郑秀文</td>\n",
       "      <td>张孝全</td>\n",
       "      <td>喜剧</td>\n",
       "      <td>爱情</td>\n",
       "      <td>中国大陆</td>\n",
       "      <td>4.4</td>\n",
       "      <td>推荐</td>\n",
       "    </tr>\n",
       "    <tr>\n",
       "      <th>7</th>\n",
       "      <td>妖铃铃</td>\n",
       "      <td>吴君如</td>\n",
       "      <td>吴君如</td>\n",
       "      <td>沈腾</td>\n",
       "      <td>喜剧</td>\n",
       "      <td>恐怖</td>\n",
       "      <td>中国大陆</td>\n",
       "      <td>4.8</td>\n",
       "      <td>推荐</td>\n",
       "    </tr>\n",
       "    <tr>\n",
       "      <th>8</th>\n",
       "      <td>心理罪之城市之光</td>\n",
       "      <td>徐纪周</td>\n",
       "      <td>邓超</td>\n",
       "      <td>阮经天</td>\n",
       "      <td>动作</td>\n",
       "      <td>悬疑</td>\n",
       "      <td>中国大陆</td>\n",
       "      <td>6.1</td>\n",
       "      <td>推荐</td>\n",
       "    </tr>\n",
       "    <tr>\n",
       "      <th>9</th>\n",
       "      <td>解忧杂货店</td>\n",
       "      <td>韩杰</td>\n",
       "      <td>王俊凯</td>\n",
       "      <td>迪丽热巴</td>\n",
       "      <td>剧情</td>\n",
       "      <td>奇幻</td>\n",
       "      <td>中国大陆</td>\n",
       "      <td>5.3</td>\n",
       "      <td>不推荐</td>\n",
       "    </tr>\n",
       "    <tr>\n",
       "      <th>10</th>\n",
       "      <td>无问西东</td>\n",
       "      <td>李芳芳</td>\n",
       "      <td>章子怡</td>\n",
       "      <td>黄晓明</td>\n",
       "      <td>剧情</td>\n",
       "      <td>爱情</td>\n",
       "      <td>中国大陆</td>\n",
       "      <td>NaN</td>\n",
       "      <td>推荐</td>\n",
       "    </tr>\n",
       "    <tr>\n",
       "      <th>11</th>\n",
       "      <td>卧底巨星</td>\n",
       "      <td>谷德昭</td>\n",
       "      <td>陈奕迅</td>\n",
       "      <td>李荣浩</td>\n",
       "      <td>喜剧</td>\n",
       "      <td>动作</td>\n",
       "      <td>中国大陆</td>\n",
       "      <td>NaN</td>\n",
       "      <td>推荐</td>\n",
       "    </tr>\n",
       "    <tr>\n",
       "      <th>12</th>\n",
       "      <td>英雄本色2018</td>\n",
       "      <td>丁晟</td>\n",
       "      <td>王凯</td>\n",
       "      <td>马天宇</td>\n",
       "      <td>剧情</td>\n",
       "      <td>动作</td>\n",
       "      <td>中国大陆</td>\n",
       "      <td>NaN</td>\n",
       "      <td>不推荐</td>\n",
       "    </tr>\n",
       "    <tr>\n",
       "      <th>13</th>\n",
       "      <td>纯洁心灵·逐梦演艺圈</td>\n",
       "      <td>毕志飞</td>\n",
       "      <td>朱哲健</td>\n",
       "      <td>李彦漫</td>\n",
       "      <td>剧情</td>\n",
       "      <td>喜剧</td>\n",
       "      <td>中国大陆</td>\n",
       "      <td>NaN</td>\n",
       "      <td>不推荐</td>\n",
       "    </tr>\n",
       "    <tr>\n",
       "      <th>14</th>\n",
       "      <td>移动迷宫3：死亡解药 The Maze Runner: The Death Cure</td>\n",
       "      <td>韦斯·鲍尔</td>\n",
       "      <td>迪伦·欧布莱恩</td>\n",
       "      <td>卡雅·斯考达里奥</td>\n",
       "      <td>动作</td>\n",
       "      <td>科幻</td>\n",
       "      <td>美国</td>\n",
       "      <td>NaN</td>\n",
       "      <td>不推荐</td>\n",
       "    </tr>\n",
       "    <tr>\n",
       "      <th>15</th>\n",
       "      <td>唐人街探案2</td>\n",
       "      <td>陈思诚</td>\n",
       "      <td>王宝强</td>\n",
       "      <td>刘昊然</td>\n",
       "      <td>喜剧</td>\n",
       "      <td>动作</td>\n",
       "      <td>中国大陆</td>\n",
       "      <td>NaN</td>\n",
       "      <td>推荐</td>\n",
       "    </tr>\n",
       "    <tr>\n",
       "      <th>16</th>\n",
       "      <td>捉妖记2</td>\n",
       "      <td>许诚毅</td>\n",
       "      <td>梁朝伟</td>\n",
       "      <td>白百何</td>\n",
       "      <td>喜剧</td>\n",
       "      <td>奇幻</td>\n",
       "      <td>中国大陆</td>\n",
       "      <td>NaN</td>\n",
       "      <td>推荐</td>\n",
       "    </tr>\n",
       "    <tr>\n",
       "      <th>17</th>\n",
       "      <td>西游记女儿国</td>\n",
       "      <td>郑保瑞</td>\n",
       "      <td>郭富城</td>\n",
       "      <td>冯绍峰</td>\n",
       "      <td>喜剧</td>\n",
       "      <td>爱情</td>\n",
       "      <td>中国大陆</td>\n",
       "      <td>NaN</td>\n",
       "      <td>推荐</td>\n",
       "    </tr>\n",
       "    <tr>\n",
       "      <th>18</th>\n",
       "      <td>狄仁杰之四大天王</td>\n",
       "      <td>徐克</td>\n",
       "      <td>赵又廷</td>\n",
       "      <td>冯绍峰</td>\n",
       "      <td>动作</td>\n",
       "      <td>悬疑</td>\n",
       "      <td>中国大陆</td>\n",
       "      <td>NaN</td>\n",
       "      <td>不推荐</td>\n",
       "    </tr>\n",
       "    <tr>\n",
       "      <th>19</th>\n",
       "      <td>祖宗十九代</td>\n",
       "      <td>郭德纲</td>\n",
       "      <td>岳云鹏</td>\n",
       "      <td>吴京</td>\n",
       "      <td>喜剧</td>\n",
       "      <td>奇幻</td>\n",
       "      <td>中国大陆</td>\n",
       "      <td>NaN</td>\n",
       "      <td>推荐</td>\n",
       "    </tr>\n",
       "  </tbody>\n",
       "</table>\n",
       "</div>"
      ],
      "text/plain": [
       "                                         title director   actor0    actor1  \\\n",
       "0                                          妖猫传      陈凯歌       黄轩      染谷将太   \n",
       "1                                星球大战8：最后的绝地武士   莱恩·约翰逊   马克·哈米尔     凯丽·费雪   \n",
       "2                                           追龙       王晶      甄子丹       刘德华   \n",
       "3                                           芳华      冯小刚       黄轩        苗苗   \n",
       "4                                  第一夫人 Jackie  帕布罗·拉雷恩  娜塔莉·波特曼   彼得·萨斯加德   \n",
       "5                                          悟空传      郭子健      彭于晏        倪妮   \n",
       "6                                         合约男女      刘国楠      郑秀文       张孝全   \n",
       "7                                          妖铃铃      吴君如      吴君如        沈腾   \n",
       "8                                     心理罪之城市之光      徐纪周       邓超       阮经天   \n",
       "9                                        解忧杂货店       韩杰      王俊凯      迪丽热巴   \n",
       "10                                        无问西东      李芳芳      章子怡       黄晓明   \n",
       "11                                        卧底巨星      谷德昭      陈奕迅       李荣浩   \n",
       "12                                    英雄本色2018       丁晟       王凯       马天宇   \n",
       "13                                  纯洁心灵·逐梦演艺圈      毕志飞      朱哲健       李彦漫   \n",
       "14  移动迷宫3：死亡解药 The Maze Runner: The Death Cure    韦斯·鲍尔  迪伦·欧布莱恩  卡雅·斯考达里奥   \n",
       "15                                      唐人街探案2      陈思诚      王宝强       刘昊然   \n",
       "16                                        捉妖记2      许诚毅      梁朝伟       白百何   \n",
       "17                                      西游记女儿国      郑保瑞      郭富城       冯绍峰   \n",
       "18                                    狄仁杰之四大天王       徐克      赵又廷       冯绍峰   \n",
       "19                                       祖宗十九代      郭德纲      岳云鹏        吴京   \n",
       "\n",
       "   genre0 genre1 district1  rate   rm  \n",
       "0      剧情     悬疑      中国大陆   7.0  不推荐  \n",
       "1      动作     科幻        美国   7.4   推荐  \n",
       "2      动作     犯罪      中国大陆   7.3   推荐  \n",
       "3      剧情     历史      中国大陆   7.8   推荐  \n",
       "4      剧情     传记        美国   6.6   推荐  \n",
       "5      剧情     动作      中国大陆   5.1  不推荐  \n",
       "6      喜剧     爱情      中国大陆   4.4   推荐  \n",
       "7      喜剧     恐怖      中国大陆   4.8   推荐  \n",
       "8      动作     悬疑      中国大陆   6.1   推荐  \n",
       "9      剧情     奇幻      中国大陆   5.3  不推荐  \n",
       "10     剧情     爱情      中国大陆   NaN   推荐  \n",
       "11     喜剧     动作      中国大陆   NaN   推荐  \n",
       "12     剧情     动作      中国大陆   NaN  不推荐  \n",
       "13     剧情     喜剧      中国大陆   NaN  不推荐  \n",
       "14     动作     科幻        美国   NaN  不推荐  \n",
       "15     喜剧     动作      中国大陆   NaN   推荐  \n",
       "16     喜剧     奇幻      中国大陆   NaN   推荐  \n",
       "17     喜剧     爱情      中国大陆   NaN   推荐  \n",
       "18     动作     悬疑      中国大陆   NaN  不推荐  \n",
       "19     喜剧     奇幻      中国大陆   NaN   推荐  "
      ]
     },
     "execution_count": 72,
     "metadata": {},
     "output_type": "execute_result"
    }
   ],
   "source": [
    "testdata0 = pd.read_csv('movie_test.csv')\n",
    "movie_pred = pd.DataFrame({\n",
    "    \"title\": testdata0['title'],\n",
    "    \"rm\": predictions\n",
    "})\n",
    "testdata0['rm'] = movie_pred['rm']\n",
    "testdata0['rm'] = testdata0['rm'].apply(lambda s:\"推荐\" if s == 1 else \"不推荐\")\n",
    "testdata0"
   ]
  },
  {
   "cell_type": "code",
   "execution_count": 73,
   "metadata": {
    "collapsed": true
   },
   "outputs": [],
   "source": [
    "# 保存为新的数据集\n",
    "testdata0.to_csv(\"movie2018_pred\", encoding=\"utf-8\")"
   ]
  }
 ],
 "metadata": {
  "kernelspec": {
   "display_name": "Python 3",
   "language": "python",
   "name": "python3"
  },
  "language_info": {
   "codemirror_mode": {
    "name": "ipython",
    "version": 3
   },
   "file_extension": ".py",
   "mimetype": "text/x-python",
   "name": "python",
   "nbconvert_exporter": "python",
   "pygments_lexer": "ipython3",
   "version": "3.5.2"
  },
  "toc": {
   "nav_menu": {},
   "number_sections": true,
   "sideBar": true,
   "skip_h1_title": false,
   "toc_cell": false,
   "toc_position": {},
   "toc_section_display": "block",
   "toc_window_display": false
  }
 },
 "nbformat": 4,
 "nbformat_minor": 2
}
